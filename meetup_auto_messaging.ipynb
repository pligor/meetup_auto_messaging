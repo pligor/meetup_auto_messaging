{
 "cells": [
  {
   "cell_type": "markdown",
   "metadata": {},
   "source": [
    "pip install -r requirements.txt"
   ]
  },
  {
   "cell_type": "code",
   "execution_count": null,
   "metadata": {
    "tags": []
   },
   "outputs": [],
   "source": [
    "import sys\n",
    "import os\n",
    "from webdriver_manager.chrome import ChromeDriverManager\n",
    "from selenium.webdriver.chrome.service import Service as ChromeService\n",
    "from selenium import webdriver\n",
    "from collections import namedtuple\n",
    "from time import sleep\n",
    "import pickle\n",
    "from selenium.webdriver.common.by import By\n",
    "from selenium.webdriver.support.ui import WebDriverWait\n",
    "from selenium.webdriver.support import expected_conditions as EC\n",
    "from selenium.common.exceptions import ElementNotInteractableException"
   ]
  },
  {
   "attachments": {},
   "cell_type": "markdown",
   "metadata": {},
   "source": [
    "# INPUTS"
   ]
  },
  {
   "cell_type": "code",
   "execution_count": null,
   "metadata": {
    "tags": []
   },
   "outputs": [],
   "source": [
    "my_msg = '<name> in less than two days this Wednesday our event at the heart of Athens. Remind me to bring a power strip. Will you ? :)'\n",
    "my_msg"
   ]
  },
  {
   "cell_type": "code",
   "execution_count": null,
   "metadata": {
    "tags": []
   },
   "outputs": [],
   "source": [
    "# members_url = 'https://www.meetup.com/social-cinema/members/'\n",
    "members_url = 'https://www.meetup.com/coworking-in-athens/members/'\n",
    "# members_url = 'https://www.meetup.com/athens-travelers/members/'\n",
    "\n",
    "shifted = 0 # useful to start from some other index, when you have for example 200 members and looping through them crashed at 110, then you need to set it to 110 in order to loop through the rest 90 of them\n",
    "sleep_between_keystrokes_secs=0.09\n",
    "sleep_secs_between_messages=10\n",
    "\n",
    "# exclude_members = ['some name', 'some other name']\n",
    "exclude_members = []"
   ]
  },
  {
   "attachments": {},
   "cell_type": "markdown",
   "metadata": {},
   "source": [
    "# Body"
   ]
  },
  {
   "cell_type": "code",
   "execution_count": null,
   "metadata": {
    "tags": []
   },
   "outputs": [],
   "source": [
    "Member = namedtuple('Member', 'name link')"
   ]
  },
  {
   "cell_type": "code",
   "execution_count": null,
   "metadata": {
    "tags": []
   },
   "outputs": [],
   "source": [
    "# driver = webdriver.Chrome(ChromeDriverManager().install()) # selenium 3\n",
    "# driver = webdriver.Chrome(service=ChromeService(ChromeDriverManager().install())) # selenium 4\n",
    "driver = webdriver.Chrome(service=ChromeService( '/Users/gp/chrome_drivers/chromedriver' ))"
   ]
  },
  {
   "cell_type": "code",
   "execution_count": null,
   "metadata": {
    "tags": []
   },
   "outputs": [],
   "source": [
    "driver.get(\"https://www.meetup.com\")"
   ]
  },
  {
   "cell_type": "code",
   "execution_count": null,
   "metadata": {
    "tags": []
   },
   "outputs": [],
   "source": [
    "## FIRST TIME ONLY\n",
    "## Login with Facebook to the window that is opened\n",
    "# pickle.dump( driver.get_cookies() , open(\"cookies.pkl\",\"wb\"))"
   ]
  },
  {
   "cell_type": "code",
   "execution_count": null,
   "metadata": {
    "tags": []
   },
   "outputs": [],
   "source": [
    "cookies = pickle.load(open(\"cookies.pkl\", \"rb\"))\n",
    "for ii, cookie in enumerate(cookies):\n",
    "    # print(ii)\n",
    "    try:\n",
    "        driver.add_cookie(cookie)\n",
    "    except:\n",
    "        print(cookie)"
   ]
  },
  {
   "cell_type": "code",
   "execution_count": null,
   "metadata": {
    "tags": []
   },
   "outputs": [],
   "source": [
    "### get rid of accept button\n",
    "# driver.find_element(by=By.CSS_SELECTOR, value='button#onetrust-accept-btn-handler').click() # implicit wait was not enough\n",
    "WebDriverWait(driver, 15).until(EC.visibility_of_element_located((By.CSS_SELECTOR, 'button#onetrust-accept-btn-handler'))).click();"
   ]
  },
  {
   "cell_type": "code",
   "execution_count": null,
   "metadata": {
    "tags": []
   },
   "outputs": [],
   "source": [
    "driver.get(members_url)"
   ]
  },
  {
   "cell_type": "code",
   "execution_count": null,
   "metadata": {
    "tags": []
   },
   "outputs": [],
   "source": [
    "######## START LOOP ###########"
   ]
  },
  {
   "cell_type": "code",
   "execution_count": null,
   "metadata": {
    "tags": []
   },
   "outputs": [],
   "source": [
    "while True:\n",
    "    members = driver.find_elements(by=By.CSS_SELECTOR, value='.member-item')\n",
    "    count_before = len(members)\n",
    "    print(\"Count before\", count_before)\n",
    "    \n",
    "    members[-1].location_once_scrolled_into_view #scroll to last element\n",
    "    \n",
    "    buttons = driver.find_elements(by=By.CSS_SELECTOR, value='.infiniteScrollLoadMoreButton')\n",
    "    count_buttons = len(buttons)\n",
    "    print(\"Count buttons\", count_buttons)\n",
    "    \n",
    "    if len(buttons) > 0:\n",
    "        buttons[0].click()\n",
    "        sleep(5)\n",
    "    else:\n",
    "        sleep(5)\n",
    "        \n",
    "        buttons = driver.find_elements(by=By.CSS_SELECTOR, value='.infiniteScrollLoadMoreButton')\n",
    "        count_buttons = len(buttons)\n",
    "        print(\"Count buttons a second time\", count_buttons)\n",
    "        \n",
    "        if len(buttons) > 0:\n",
    "            buttons[0].click()\n",
    "            sleep(5)\n",
    "        else:\n",
    "            pass #do nothing you have already slept\n",
    "    \n",
    "    members = driver.find_elements(by=By.CSS_SELECTOR, value='.member-item')\n",
    "    count_after = len(members)\n",
    "    print(\"Count after\", count_after)\n",
    "    if (count_before == count_after) and len(buttons) == 0:\n",
    "        print(\"STOP\")\n",
    "        break\n",
    "    else:\n",
    "        print(\"one more time\")"
   ]
  },
  {
   "cell_type": "code",
   "execution_count": null,
   "metadata": {
    "tags": []
   },
   "outputs": [],
   "source": [
    "##### END LOOP ####"
   ]
  },
  {
   "cell_type": "code",
   "execution_count": null,
   "metadata": {
    "tags": []
   },
   "outputs": [],
   "source": [
    "membersElems = driver.find_elements(by=By.CSS_SELECTOR, value='.member-item')\n",
    "len(membersElems)"
   ]
  },
  {
   "cell_type": "code",
   "execution_count": null,
   "metadata": {
    "tags": []
   },
   "outputs": [],
   "source": [
    "def extract_name_and_link(member):\n",
    "    names = member.find_elements(by=By.CSS_SELECTOR, value='h4.text--bold')\n",
    "    links = member.find_elements(by=By.CSS_SELECTOR, value='a.messageButton')\n",
    "    \n",
    "    if len(names) > 0 and len(links) > 0:\n",
    "        return Member(name=names[0].text, link=links[0].get_attribute('href'))\n",
    "    else:\n",
    "        if len(names) > 0:\n",
    "            print(\"Names\",', '.join([cur_name.text for cur_name in names]), \"is skipped\")\n",
    "        return None"
   ]
  },
  {
   "cell_type": "code",
   "execution_count": null,
   "metadata": {
    "tags": []
   },
   "outputs": [],
   "source": [
    "%%time\n",
    "member_list = [extract_name_and_link(member) for member in membersElems]\n",
    "len(member_list)"
   ]
  },
  {
   "cell_type": "code",
   "execution_count": null,
   "metadata": {
    "tags": []
   },
   "outputs": [],
   "source": [
    "# all the members who have a link to which we can send a message (for example for myself I cannot)\n",
    "messagable_members = [member for member in member_list if member is not None]\n",
    "len(messagable_members)"
   ]
  },
  {
   "cell_type": "code",
   "execution_count": null,
   "metadata": {
    "tags": []
   },
   "outputs": [],
   "source": [
    "#messagable_members[0].name.lower() not in exclude_members\n",
    "def is_included(cur_name: str):\n",
    "    cur_name_lower = cur_name.lower()\n",
    "    return all([ex_mem.lower() not in cur_name_lower for ex_mem in exclude_members])"
   ]
  },
  {
   "cell_type": "code",
   "execution_count": null,
   "metadata": {
    "tags": []
   },
   "outputs": [],
   "source": [
    "members = [member for member in messagable_members if is_included(member.name)]\n",
    "len(members)"
   ]
  },
  {
   "cell_type": "code",
   "execution_count": null,
   "metadata": {
    "tags": []
   },
   "outputs": [],
   "source": [
    "def extract_first_name(name):\n",
    "    first_name = name.split(' ')[0].lower()\n",
    "    first_letter = first_name[0].upper()\n",
    "    rest_of_name = first_name[1:]\n",
    "    return first_letter + rest_of_name"
   ]
  },
  {
   "cell_type": "code",
   "execution_count": null,
   "metadata": {
    "tags": []
   },
   "outputs": [],
   "source": [
    "def send_message_to_member(member, sleep_secs = 10, sleep_between_keystrokes=0.05, debug=True):\n",
    "    driver.get(member.link)\n",
    "    sleep(sleep_secs)\n",
    "    textareas = driver.find_elements(by=By.CSS_SELECTOR, value='textarea.composeBox-textArea')\n",
    "    \n",
    "    if len(textareas) == 0:\n",
    "        print(member, \"was skipped because for some weird reason no text area was found!!!\")\n",
    "        return\n",
    "    \n",
    "    textarea = textareas[0]\n",
    "    textarea.clear()\n",
    "    \n",
    "    \n",
    "    cur_msg = my_msg.replace('<name>', extract_first_name(member.name))\n",
    "    if debug:\n",
    "        print(\"Current message:\",cur_msg)\n",
    "        \n",
    "    for letter in cur_msg:\n",
    "        sleep(sleep_between_keystrokes)\n",
    "        textarea.send_keys(letter)\n",
    "    \n",
    "    buttons = driver.find_elements(by=By.CSS_SELECTOR, value='button.composeBox-sendButton')\n",
    "    \n",
    "    if len(buttons) == 0:\n",
    "        print(member, \"was skipped because for some weird reason no button to send message was found!!!\")\n",
    "        return\n",
    "    \n",
    "    button = buttons[0]\n",
    "    button.click()\n",
    "    \n",
    "    sleep(sleep_secs)"
   ]
  },
  {
   "cell_type": "code",
   "execution_count": null,
   "metadata": {
    "tags": []
   },
   "outputs": [],
   "source": [
    "driver.maximize_window()"
   ]
  },
  {
   "cell_type": "code",
   "execution_count": null,
   "metadata": {
    "tags": []
   },
   "outputs": [],
   "source": [
    "shifted"
   ]
  },
  {
   "cell_type": "code",
   "execution_count": null,
   "metadata": {
    "tags": []
   },
   "outputs": [],
   "source": [
    "for ii, member in enumerate(members[shifted:]):\n",
    "    print(ii+shifted)\n",
    "    try:\n",
    "        send_message_to_member(member, sleep_between_keystrokes=sleep_between_keystrokes_secs, sleep_secs=sleep_secs_between_messages)\n",
    "    except ElementNotInteractableException as ex:\n",
    "        send_message_to_member(member, sleep_between_keystrokes=sleep_between_keystrokes_secs, sleep_secs=sleep_secs_between_messages) # simply retry"
   ]
  },
  {
   "cell_type": "code",
   "execution_count": null,
   "metadata": {
    "tags": []
   },
   "outputs": [],
   "source": [
    "driver.quit()"
   ]
  },
  {
   "cell_type": "code",
   "execution_count": null,
   "metadata": {},
   "outputs": [],
   "source": [
    "# poll(\n",
    "#     lambda: check(person),\n",
    "#     step=60*10,\n",
    "#     poll_forever=True)"
   ]
  },
  {
   "cell_type": "markdown",
   "metadata": {},
   "source": [
    "# Test"
   ]
  },
  {
   "cell_type": "code",
   "execution_count": null,
   "metadata": {},
   "outputs": [],
   "source": []
  }
 ],
 "metadata": {
  "kernelspec": {
   "display_name": "Python 3 (ipykernel)",
   "language": "python",
   "name": "python3"
  },
  "language_info": {
   "codemirror_mode": {
    "name": "ipython",
    "version": 3
   },
   "file_extension": ".py",
   "mimetype": "text/x-python",
   "name": "python",
   "nbconvert_exporter": "python",
   "pygments_lexer": "ipython3",
   "version": "3.11.1"
  }
 },
 "nbformat": 4,
 "nbformat_minor": 4
}
